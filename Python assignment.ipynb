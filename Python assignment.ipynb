{
 "cells": [
  {
   "cell_type": "code",
   "execution_count": 11,
   "id": "91012641-e7f3-4b8b-97bd-234c150f16b5",
   "metadata": {},
   "outputs": [
    {
     "name": "stdout",
     "output_type": "stream",
     "text": [
      "86\n"
     ]
    }
   ],
   "source": [
    "#1. Write a Python program to find the second largest number in a list without using the sort() method.\n",
    "\n",
    "numbers= [3,56,66,22,86,91,1,6,9]\n",
    "check=numbers[0];\n",
    "for i in numbers:\n",
    "    if i>check:\n",
    "        check=i\n",
    "numbers.remove(check)\n",
    "check2=numbers[0]\n",
    "for i in numbers:\n",
    "    if i>check2:\n",
    "        check2=i\n",
    "print(check2)"
   ]
  },
  {
   "cell_type": "code",
   "execution_count": 12,
   "id": "08bf1185-4ad6-4a8a-aef3-be905a4b0e66",
   "metadata": {},
   "outputs": [
    {
     "name": "stdout",
     "output_type": "stream",
     "text": [
      "[1, 2, 3, 4, 6, 8]\n"
     ]
    }
   ],
   "source": [
    "#2. Remove duplicates from a list without using set() and return it in sorted order.\n",
    "\n",
    "nums= [1,4,2,6,6,2,8,2,4,3,6,1]\n",
    "nums.sort()\n",
    "unique_nums=[]\n",
    "for i in nums:\n",
    "    if len(unique_nums)==0 or i!=unique_nums[-1]:\n",
    "        unique_nums.append(i)\n",
    "        \n",
    "print(unique_nums)"
   ]
  },
  {
   "cell_type": "code",
   "execution_count": 13,
   "id": "5aa6899c-6543-4100-ab70-c4d5912b91d2",
   "metadata": {},
   "outputs": [
    {
     "name": "stdout",
     "output_type": "stream",
     "text": [
      "Sum is  45\n",
      "Average is  5.0\n"
     ]
    }
   ],
   "source": [
    "#3. Find the sum and average of a list of numbers.\n",
    "nums=[1,2,3,4,5,6,7,8,9]\n",
    "total=0\n",
    "for i in nums:\n",
    "    total+=i\n",
    "elements=len(nums)\n",
    "avg=total/elements\n",
    "print(\"Sum is \", total)\n",
    "print(\"Average is \", avg)"
   ]
  },
  {
   "cell_type": "code",
   "execution_count": null,
   "id": "b53b6e51-ff07-4503-a160-5602ac3b0dfd",
   "metadata": {},
   "outputs": [],
   "source": [
    "#4. Create a program to check if a number is prime.\n",
    "num= int(input())\n",
    "if num <= 1:\n",
    "    print(\"Not prime\")\n",
    "else:\n",
    "    is_prime = True\n",
    "    for i in range(2, int(num ** 0.5) + 1):\n",
    "        if num % i == 0:\n",
    "            is_prime = False\n",
    "            break\n",
    "\n",
    "    if is_prime:\n",
    "        print(\"A prime number\")\n",
    "    else:\n",
    "        print(\"Not prime\")"
   ]
  },
  {
   "cell_type": "code",
   "execution_count": null,
   "id": "ac4facf1-ab82-4cb5-a9a0-8eed0ae64717",
   "metadata": {},
   "outputs": [],
   "source": [
    "#5. Count the number of vowels, consonants, digits, and special characters in a given string.\n",
    "\n",
    "strr = input()\n",
    "\n",
    "vowels = \"aeiouAEIOU\"\n",
    "digits = \"0123456789\"\n",
    "vowel_count = consonant_count = digit_count = special_count = 0\n",
    "\n",
    "for char in strr:\n",
    "    if char.isalpha():\n",
    "        if char in vowels:\n",
    "            vowel_count += 1\n",
    "        else:\n",
    "            consonant_count += 1\n",
    "    elif char.isdigit():\n",
    "        digit_count += 1\n",
    "    elif not char.isspace():\n",
    "        special_count += 1\n",
    "\n",
    "print(\"Vowels:\", vowel_count)\n",
    "print(\"Consonants:\", consonant_count)\n",
    "print(\"Digits:\", digit_count)\n",
    "print(\"Special Characters:\", special_count)"
   ]
  },
  {
   "cell_type": "code",
   "execution_count": null,
   "id": "2c249971-909b-49dc-83ae-5d2402700ed2",
   "metadata": {},
   "outputs": [],
   "source": [
    "#6. Print all even numbers between 1 and 100 using a for loop.\n",
    "\n",
    "even_num=[]\n",
    "for i in range(1,101):\n",
    "    if i%2==0:\n",
    "        even_num.append(i)\n",
    "print(even_num)"
   ]
  },
  {
   "cell_type": "code",
   "execution_count": null,
   "id": "bfacd149-3044-4f6d-be8a-3eb5efeceaae",
   "metadata": {},
   "outputs": [],
   "source": [
    "#7. Write a program to print the multiplication table of a number entered by the user.\n",
    "\n",
    "nums=int(input())\n",
    "for i in range(1,11):\n",
    "    print(nums*i)"
   ]
  },
  {
   "cell_type": "code",
   "execution_count": null,
   "id": "90ce4205-b56e-41ac-8d6e-c35e2b44acc1",
   "metadata": {},
   "outputs": [],
   "source": [
    "#8. Create a list of numbers from 1 to 100 that are divisible by both 3 and 5.\n",
    "\n",
    "nums=[]\n",
    "for i in range(1,101):\n",
    "    if i%3==0 and i%5==0:\n",
    "        nums.append(i)\n",
    "print(nums)"
   ]
  },
  {
   "cell_type": "code",
   "execution_count": null,
   "id": "eac46990-12d1-4b53-bd83-70a58ef7c8a0",
   "metadata": {},
   "outputs": [],
   "source": [
    "#9. Take a number input and print its reverse.\n",
    "\n",
    "nums=input()\n",
    "reverse=nums[::-1]\n",
    "print(reverse)\n"
   ]
  },
  {
   "cell_type": "code",
   "execution_count": null,
   "id": "321e04dd-463e-4eba-904a-284299c5db25",
   "metadata": {},
   "outputs": [],
   "source": [
    "#10. Count the frequency of each character in a string and store it in a dictionary.\n",
    "\n",
    "text = input(\"Enter a string: \")\n",
    "freq = {}\n",
    "\n",
    "for char in text:\n",
    "    if char in freq:\n",
    "        freq[char] += 1\n",
    "    else:\n",
    "        freq[char] = 1\n",
    "\n",
    "print(\"Character frequencies:\")\n",
    "print(freq)"
   ]
  },
  {
   "cell_type": "code",
   "execution_count": null,
   "id": "d19c975e-c6bd-46b6-9301-b0bbaa0f11b7",
   "metadata": {},
   "outputs": [],
   "source": [
    "#11. Write a Python program to generate the first n prime numbers\n",
    "\n",
    "n = int(input())\n",
    "prime = []\n",
    "num = 2 \n",
    "\n",
    "while len(prime) < n:\n",
    "    is_prime = True\n",
    "    for i in range(2, int(num**0.5)+1):\n",
    "        if num % i == 0:\n",
    "            is_prime = False\n",
    "            break\n",
    "    if is_prime:\n",
    "        prime.append(num)\n",
    "    num += 1\n",
    "print(prime)"
   ]
  },
  {
   "cell_type": "code",
   "execution_count": null,
   "id": "37dd4db0-0c5c-436d-a8c3-67b6bd2fbdd0",
   "metadata": {},
   "outputs": [],
   "source": [
    "#12. Check whether a number is a palindrome or not.\n",
    "\n",
    "num = int(input())\n",
    "original = str(num)\n",
    "reversed_num = original[::-1]\n",
    "\n",
    "if original == reversed_num:\n",
    "    print(\"palindrome\")\n",
    "else:\n",
    "    print(\"not a palindrome\")"
   ]
  },
  {
   "cell_type": "code",
   "execution_count": null,
   "id": "d982e454-3175-473c-8b78-4b4525fea283",
   "metadata": {},
   "outputs": [],
   "source": [
    "#13. Count how many times a specific element appears in a list.\n",
    "\n",
    "nums = [1, 2, 3, 4, 2, 5, 2, 6, 3, 2]\n",
    "\n",
    "element = int(input())\n",
    "\n",
    "count = 0\n",
    "\n",
    "for i in nums:\n",
    "    if i == element:\n",
    "        count += 1\n",
    "\n",
    "print(f\"{element} appears {count} times\")"
   ]
  },
  {
   "cell_type": "code",
   "execution_count": null,
   "id": "aa0fcd4a-248a-45cc-b3ee-c047a6b1561e",
   "metadata": {},
   "outputs": [],
   "source": [
    "#14. Create a list of squares of even numbers between 1 and 50.\n",
    "\n",
    "sqr=[]\n",
    "for i in range(1,51):\n",
    "    if i%2==0:\n",
    "        sqr.append(i**2)\n",
    "print(sqr)"
   ]
  },
  {
   "cell_type": "code",
   "execution_count": null,
   "id": "8cd3c4b2-9892-4afc-8978-42f6fa7a1693",
   "metadata": {},
   "outputs": [],
   "source": [
    "#15. Accept a list and return a new list with only unique elements (preserve order).\n",
    "\n",
    "unset_list=[1,2,4,2,5,8,2,8,3,8,0,2,4]\n",
    "set_list=[]\n",
    "for i in unset_list:\n",
    "    if i not in set_list:\n",
    "        set_list.append(i)\n",
    "\n",
    "print(set_list)"
   ]
  },
  {
   "cell_type": "code",
   "execution_count": null,
   "id": "91b5a028-fda7-42ec-a565-125f9d9520a3",
   "metadata": {},
   "outputs": [],
   "source": [
    "#16. Write a function to check if a number is even or odd.\n",
    "num=int(input())\n",
    "def even_or_odd(num):\n",
    "    if num%2==0:\n",
    "        print(\"Number is even\")\n",
    "    else:\n",
    "        print(\"Number is odd\")\n",
    "even_or_odd(num)"
   ]
  },
  {
   "cell_type": "code",
   "execution_count": null,
   "id": "7d7ab217-2c57-4e27-897c-99cc8c89799b",
   "metadata": {},
   "outputs": [],
   "source": [
    "#17. Create a function that takes a list of numbers and returns their cumulative sum.\n",
    "\n",
    "def cumulative_sum(numbers):\n",
    "    result = []\n",
    "    total = 0\n",
    "    for num in numbers:\n",
    "        total += num\n",
    "        result.append(total)\n",
    "    return result\n",
    "\n",
    "nums = [1, 2, 3, 4, 5]\n",
    "print(cumulative_sum(nums))"
   ]
  },
  {
   "cell_type": "code",
   "execution_count": null,
   "id": "99ff8c99-9fc0-441a-aca0-2ee68f844e02",
   "metadata": {},
   "outputs": [],
   "source": [
    "#18. Write a recursive function to find the factorial of a number.\n",
    "\n",
    "def factorial(n):\n",
    "    if n == 0 or n == 1:\n",
    "        return 1\n",
    "    else:\n",
    "        return n * factorial(n - 1)\n",
    "\n",
    "num = 5\n",
    "print(factorial(num))"
   ]
  },
  {
   "cell_type": "code",
   "execution_count": null,
   "id": "e085c908-fae5-4992-9482-009b0b65c5fc",
   "metadata": {},
   "outputs": [],
   "source": [
    "#19. Write a function to print the Fibonacci series up to n terms.\n",
    "\n",
    "def fibonacci(n):\n",
    "    a= 0\n",
    "    b=1\n",
    "    for i in range(n):\n",
    "        print(a, end=' ')\n",
    "        a, b = b, a + b\n",
    "terms = 10\n",
    "fibonacci(terms)"
   ]
  },
  {
   "cell_type": "code",
   "execution_count": null,
   "id": "8e9d39d3-180e-428c-bb3a-3e750c04396b",
   "metadata": {},
   "outputs": [],
   "source": [
    "#20. Define a function that checks if a given string is a palindrome.\n",
    "\n",
    "def is_palindrome(s):\n",
    "    return s == s[::-1]\n",
    "\n",
    "word = \"FoolHardieRaps\"\n",
    "if is_palindrome(word):\n",
    "    print(\"Palindrome\")\n",
    "else:\n",
    "    print(\"Not a palindrome\")"
   ]
  },
  {
   "cell_type": "code",
   "execution_count": null,
   "id": "db11a234-6ec9-4a88-beb0-045de4977fe8",
   "metadata": {},
   "outputs": [],
   "source": [
    "#21. Create a function that returns the maximum and minimum elements from a list.\n",
    "\n",
    "def find_max_min(numbers):\n",
    "    maximum = numbers[0]\n",
    "    minimum = numbers[0]\n",
    "    for num in numbers:\n",
    "        if num > maximum:\n",
    "            maximum = num\n",
    "        if num < minimum:\n",
    "            minimum = num\n",
    "    return maximum, minimum\n",
    "\n",
    "nums = [4, 1, 9, 3, 7, 2]\n",
    "max_val, min_val = find_max_min(nums)\n",
    "print(\"Maximum:\", max_val)\n",
    "print(\"Minimum:\", min_val)"
   ]
  },
  {
   "cell_type": "code",
   "execution_count": null,
   "id": "f9b14799-9d5d-47a2-93c1-75e9347a9475",
   "metadata": {},
   "outputs": [],
   "source": [
    "#22. Write a function to check whether a string is a pangram.\n",
    "\n",
    "def is_pangram(sentence):\n",
    "    alphabet = \"abcdefghijklmnopqrstuvwxyz\"\n",
    "    sentence = sentence.lower()\n",
    "    for letter in alphabet:\n",
    "        if letter not in sentence:\n",
    "            return False\n",
    "    return True\n",
    "\n",
    "text = \"The quick brown fox jumps over the lazy dog\"\n",
    "text2= \"Chandu ke chacha ne chandi ki chammach se chatni chatayi\"\n",
    "print(is_pangram(text)) \n",
    "print(is_pangram(text2)) "
   ]
  },
  {
   "cell_type": "code",
   "execution_count": null,
   "id": "65c61df0-84c7-4cdf-b4e0-2c9d3bf46f61",
   "metadata": {},
   "outputs": [],
   "source": [
    "#23. Create a function that finds and returns all prime numbers in a given range.\n",
    "\n",
    "def find_primes(start, end):\n",
    "    primes = []\n",
    "    for num in range(start, end + 1):\n",
    "        if num > 1:\n",
    "            is_prime = True\n",
    "            for i in range(2, int(num**0.5) + 1):\n",
    "                if num % i == 0:\n",
    "                    is_prime = False\n",
    "                    break\n",
    "            if is_prime:\n",
    "                primes.append(num)\n",
    "    return primes\n",
    "    \n",
    "print(find_primes(10, 53))"
   ]
  },
  {
   "cell_type": "code",
   "execution_count": null,
   "id": "fc097ba4-44cf-4d5c-bcfb-015bcd023064",
   "metadata": {},
   "outputs": [],
   "source": [
    "#24. Write a function to return the number of uppercase and lowercase letters in a string.\n",
    "\n",
    "def count_case_letters(s):\n",
    "    upper_count = 0\n",
    "    lower_count = 0\n",
    "    for char in s:\n",
    "        if char.isupper():\n",
    "            upper_count += 1\n",
    "        elif char.islower():\n",
    "            lower_count += 1\n",
    "    return upper_count, lower_count\n",
    "\n",
    "string = \"Hello World! PYthon Is Fun.\"\n",
    "upper, lower = count_case_letters(string)\n",
    "print(\"Uppercase letters:\", upper)\n",
    "print(\"Lowercase letters:\", lower)"
   ]
  },
  {
   "cell_type": "code",
   "execution_count": null,
   "id": "27b433dc-38f7-44b1-a46a-aa283a099bb0",
   "metadata": {},
   "outputs": [],
   "source": [
    "#25. Write a function to count words in a sentence.\n",
    "\n",
    "def count_words(sentence):\n",
    "    words = sentence.split()\n",
    "    return len(words)\n",
    "\n",
    "text = \"This is a sample sentence with seven words.\"\n",
    "word_count = count_words(text)\n",
    "print(word_count)"
   ]
  },
  {
   "cell_type": "code",
   "execution_count": null,
   "id": "7895fb5d-c10f-4b22-8e93-ae9b2894e28a",
   "metadata": {},
   "outputs": [],
   "source": [
    "#27. Create a function to remove all punctuation from a string.\n",
    "import string\n",
    "def remove_punctuation(text):\n",
    "    no_punct = \"\"\n",
    "    for char in text:\n",
    "        if char not in string.punctuation:\n",
    "            no_punct += char\n",
    "    return no_punct\n",
    "\n",
    "# Example usage:\n",
    "sentence = \"Hello bachho, kaise hai aap log !\"\n",
    "cleaned = remove_punctuation(sentence)\n",
    "print(\"Without punctuation:\", cleaned)"
   ]
  },
  {
   "cell_type": "code",
   "execution_count": null,
   "id": "a4ddb024-3da8-46b9-b9db-eb2f8813bbd4",
   "metadata": {},
   "outputs": [],
   "source": [
    "#28. Create a function that finds the GCD (greatest common divisor) of two numbers.\n",
    "\n",
    "def find_gcd(a, b):\n",
    "    while b != 0:\n",
    "        a, b = b, a % b\n",
    "    return a\n",
    "num1 = 36\n",
    "num2 = 60\n",
    "print(find_gcd(num1, num2))"
   ]
  },
  {
   "cell_type": "code",
   "execution_count": null,
   "id": "286459d1-6e6d-4dcb-a2e5-b0e1262b5a36",
   "metadata": {},
   "outputs": [],
   "source": [
    "#29. Write a function that takes a list and returns only those elements that appear more than once.\n",
    "\n",
    "def find_duplicates(lst):\n",
    "    duplicates = []\n",
    "    for i in lst:\n",
    "        if lst.count(i) > 1 and i not in duplicates:\n",
    "            duplicates.append(i)\n",
    "    return duplicates\n",
    "\n",
    "numbers = [1, 2, 3, 4, 2, 5, 1, 6, 7, 3, 3]\n",
    "print(find_duplicates(numbers))"
   ]
  },
  {
   "cell_type": "code",
   "execution_count": null,
   "id": "292fb4fb-26a4-405c-bfb5-dc19b99d4121",
   "metadata": {},
   "outputs": [],
   "source": [
    "#30. Create a function to return the largest of three numbers.\n",
    "\n",
    "def find_largest(a, b, c):\n",
    "    if a >= b and a >= c:\n",
    "        return a\n",
    "    elif b >= a and b >= c:\n",
    "        return b\n",
    "    else:\n",
    "        return c\n",
    "a=int(input())\n",
    "b=int(input())\n",
    "c=int(input())\n",
    "print(find_largest(a,b,c))"
   ]
  },
  {
   "cell_type": "code",
   "execution_count": null,
   "id": "04f2d26b-a019-4261-a764-bc87b0dd1af5",
   "metadata": {},
   "outputs": [],
   "source": [
    "#31 Write a program to sort words in a sentence alphabetically.\n",
    "\n",
    "sentence = input()\n",
    "words = sentence.split()\n",
    "words.sort()\n",
    "sorted_sentence = ' '.join(words)\n",
    "print(sorted_sentence)"
   ]
  },
  {
   "cell_type": "code",
   "execution_count": null,
   "id": "9a341c4e-a60e-4bae-915b-34fe09ec2c4e",
   "metadata": {},
   "outputs": [],
   "source": [
    "#32. Concatenate two dictionaries and print the result.\n",
    "\n",
    "dict1 = {'a': 1, 'b': 2}\n",
    "dict2 = {'c': 3, 'd': 4}\n",
    "result = dict1.copy() \n",
    "result.update(dict2)\n",
    "\n",
    "print(result)"
   ]
  },
  {
   "cell_type": "code",
   "execution_count": null,
   "id": "63d3b91b-e39e-407c-b263-b656ed344345",
   "metadata": {},
   "outputs": [],
   "source": [
    "#33. Count how many vowels are present in each word of a sentence.\n",
    "\n",
    "sentence= input()\n",
    "words=sentence.split()\n",
    "vowels = \"aeiouAEIOU\"\n",
    "for i in words:\n",
    "    count = 0\n",
    "    for char in i:\n",
    "        if char in vowels:\n",
    "            count += 1\n",
    "    print(f\"'{i}': {count} vowel(s)\")\n"
   ]
  },
  {
   "cell_type": "code",
   "execution_count": null,
   "id": "1c9489cb-d45d-45db-a6d7-982cb81553a4",
   "metadata": {},
   "outputs": [],
   "source": [
    "#34. Accept a tuple and convert it into a list.\n",
    "\n",
    "ttuple = (1, 2, 3, 4, 5)\n",
    "llist = list(ttuple)\n",
    "print(llist)"
   ]
  },
  {
   "cell_type": "code",
   "execution_count": null,
   "id": "608b458c-099f-4689-8236-af6dd3b6a33b",
   "metadata": {},
   "outputs": [],
   "source": [
    "#35. Remove all whitespace from a given string using a function.\n",
    "\n",
    "def removespace(sentence):\n",
    "    return sentence.replace(\" \",\"\")\n",
    "sts=\"He is my best friend \"\n",
    "print(removespace(sts))"
   ]
  },
  {
   "cell_type": "code",
   "execution_count": null,
   "id": "16240935-7b70-4f1a-8b83-1bcc76da9c74",
   "metadata": {},
   "outputs": [],
   "source": [
    "#36. Merge two lists into a dictionary using one as keys and the other as values.\n",
    "\n",
    "keys = ['a', 'b', 'c']\n",
    "values = [1, 2, 3]\n",
    "\n",
    "merged_dict = dict(zip(keys, values))\n",
    "print(merged_dict)"
   ]
  },
  {
   "cell_type": "code",
   "execution_count": null,
   "id": "d5d5f077-1e13-43f3-a961-7e218e9d6169",
   "metadata": {},
   "outputs": [],
   "source": [
    "#37. Write a program to get the key with the maximum value in a dictionary.\n",
    "\n",
    "my_dict = {'a': 10, 'b': 25, 'c': 5, 'd': 18}\n",
    "max_key = max(my_dict, key=my_dict.get)\n",
    "\n",
    "print(\"Key with maximum value:\", max_key)"
   ]
  },
  {
   "cell_type": "code",
   "execution_count": null,
   "id": "acdd0eea-de68-48ef-b304-d0c68f93c7c3",
   "metadata": {},
   "outputs": [],
   "source": [
    "#38. Accept a string and print a dictionary with word frequencies.\n",
    "\n",
    "sentence = input(\"Enter a sentence: \")\n",
    "words = sentence.split()\n",
    "word_freq = {}\n",
    "for i in words:\n",
    "    if i in word_freq:\n",
    "        word_freq[i] += 1\n",
    "    else:\n",
    "        word_freq[i] = 1\n",
    "\n",
    "print(word_freq)"
   ]
  },
  {
   "cell_type": "code",
   "execution_count": null,
   "id": "f775f9b2-69e0-45f6-8979-cc3e392c20f1",
   "metadata": {},
   "outputs": [],
   "source": [
    "#39. Write a program to check if a key exists in a dictionary.\n",
    "\n",
    "my_dict = {\n",
    "    \"name\": \"Alice\",\n",
    "    \"age\": 25,\n",
    "    \"city\": \"Delhi\"\n",
    "}\n",
    "key = input(\"Enter the key to check: \")\n",
    "\n",
    "if key in my_dict:\n",
    "    print(f\" '{key}' exists in the dictionary with value: {my_dict[key]}\")\n",
    "else:\n",
    "    print(f\"'{key}' does not exist in the dictionary.\")"
   ]
  },
  {
   "cell_type": "code",
   "execution_count": null,
   "id": "ec86c441-be89-4e60-92ef-01b5ae7bce33",
   "metadata": {},
   "outputs": [],
   "source": [
    "#40. Write a program to replace all the vowels in a string with '*'.\n",
    "\n",
    "strr= \"Mera naam chinchinchu hai\"\n",
    "vowels= \"aeiouAEIOU\"\n",
    "result = \"\"\n",
    "for char in strr:\n",
    "    if char in vowels:\n",
    "        result += \"*\"\n",
    "    else:\n",
    "        result += char\n",
    "\n",
    "print(result)"
   ]
  },
  {
   "cell_type": "code",
   "execution_count": null,
   "id": "c7020fb5-87a2-4130-9e32-63279ef9f224",
   "metadata": {},
   "outputs": [],
   "source": [
    "#41. Write a Python program to read the contents of a file and display it.\n",
    "\n",
    "filename = \"yourfile.txt\"\n",
    "try:\n",
    "    with open(filename, 'r') as file:\n",
    "        content = file.read()\n",
    "        print(\"File content:\\n\")\n",
    "        print(content)\n",
    "except FileNotFoundError:\n",
    "    print(\"The file does not exist\")"
   ]
  },
  {
   "cell_type": "code",
   "execution_count": null,
   "id": "c345c1e6-8a65-4551-b999-1cbd388b7b4b",
   "metadata": {},
   "outputs": [],
   "source": [
    "#42. Count the number of words in a file.\n",
    "\n",
    "filename = \"yourfile.txt\"\n",
    "try:\n",
    "    with open(filename, 'r') as file:\n",
    "        content = file.read()\n",
    "        words = content.split()\n",
    "        print(\"Total number of words:\", len(words))\n",
    "except FileNotFoundError:\n",
    "    print(\"file does not exist\")"
   ]
  },
  {
   "cell_type": "code",
   "execution_count": null,
   "id": "9242bf4f-0e23-4520-9516-2cf8ff31c315",
   "metadata": {},
   "outputs": [],
   "source": [
    "#43. Copy contents of one file to another.\n",
    "\n",
    "source_file = \"source.txt\"   \n",
    "destination_file = \"destination.txt\"  \n",
    "try:\n",
    "    with open(source_file, 'r') as src:\n",
    "        content = src.read()\n",
    "\n",
    "    with open(destination_file, 'w') as dest:\n",
    "        dest.write(content)\n",
    "    print(\"File copied successfully\")\n",
    "except FileNotFoundError:\n",
    "    print(\"Source file not found\")"
   ]
  },
  {
   "cell_type": "code",
   "execution_count": null,
   "id": "cef08ee5-9568-47ff-9333-ffbfbd221bed",
   "metadata": {},
   "outputs": [],
   "source": [
    "#44. Print only the lines that have more than 50 characters from a text file.\n",
    "\n",
    "filename = \"yourfile.txt\" \n",
    "try:\n",
    "    with open(filename, 'r') as file:\n",
    "        for line in file:\n",
    "            if len(line.strip()) > 50:\n",
    "                print(line.strip())\n",
    "except FileNotFoundError:\n",
    "    print(\"File not found.\")"
   ]
  },
  {
   "cell_type": "code",
   "execution_count": null,
   "id": "1d945638-4dcc-48ec-95ae-f541d810110c",
   "metadata": {},
   "outputs": [],
   "source": [
    "#45. Write a program to write a list of strings into a text file (one string per line).\n",
    "\n",
    "lines = [\"Hello world\", \"Python is fun\", \"File handling is easy\", \"Have a nice day!\"]\n",
    "filename = \"output.txt\"\n",
    "with open(filename, 'w') as file:\n",
    "    for line in lines:\n",
    "        file.write(line + '\\n')\n",
    "print(\"Lines written to\", filename)"
   ]
  },
  {
   "cell_type": "code",
   "execution_count": null,
   "id": "99f54900-a2e7-4627-b9d7-6c2fbc1dec0c",
   "metadata": {},
   "outputs": [],
   "source": [
    "#46. Write a program to take two numbers as input and handle division by zero.\n",
    "\n",
    "try:\n",
    "    num1 = float(input(\"Enter the numerator: \"))\n",
    "    num2 = float(input(\"Enter the denominator: \")) \n",
    "    result = num1 / num2\n",
    "    print(\"Result:\", result)\n",
    "\n",
    "except ZeroDivisionError:\n",
    "    print(\"Error: Division by zero is not allowed\")\n",
    "except ValueError:\n",
    "    print(\"Invalid input. Please enter numbers only\")"
   ]
  },
  {
   "cell_type": "code",
   "execution_count": null,
   "id": "c4d59d43-a0ca-4f73-ba43-906e4181dfcd",
   "metadata": {},
   "outputs": [],
   "source": [
    "#47. Handle invalid user input (e.g., entering a string when a number is expected).\n",
    "\n",
    "while True:\n",
    "    try:\n",
    "        num = float(input(\"Enter a number: \"))\n",
    "        print(\"You entered:\", num)\n",
    "        break\n",
    "    except ValueError:\n",
    "        print(\"Invalid input, Please enter a valid number\")"
   ]
  },
  {
   "cell_type": "code",
   "execution_count": null,
   "id": "c8e8a139-9d09-41a6-b4ff-d6918e69f492",
   "metadata": {},
   "outputs": [],
   "source": [
    "#48. Try to open a file that doesn’t exist and handle the FileNotFoundError.\n",
    "\n",
    "filename = input(\"Enter the filename to open: \")\n",
    "try:\n",
    "    with open(filename, 'r') as file:\n",
    "        contents = file.read()\n",
    "        print(\"File contents:\\n\", contents)\n",
    "except FileNotFoundError:\n",
    "    print(f\"Error: file '{filename}' does not exist\")"
   ]
  },
  {
   "cell_type": "code",
   "execution_count": null,
   "id": "fb7b187e-e593-4dbc-830a-f86c0daaae4c",
   "metadata": {},
   "outputs": [],
   "source": [
    "#49. Create a list of numbers and try accessing an invalid index. Handle the exception gracefully.\n",
    "\n",
    "numbers = [10, 20, 30, 40, 50]\n",
    "try:\n",
    "    index = int(input(\"Enter the index you want to access: \"))\n",
    "    print(\"Value at index\", index, \"is\", numbers[index])\n",
    "except IndexError:\n",
    "    print(\"Error: That index is out of range\")\n",
    "except ValueError:\n",
    "    print(\"Error: Please enter a valid integer index\")"
   ]
  },
  {
   "cell_type": "code",
   "execution_count": null,
   "id": "a9eb1fe1-8568-4e2a-a70b-ddfaeb78b075",
   "metadata": {},
   "outputs": [],
   "source": [
    "#50. Use a try-except-finally block to demonstrate the execution of the finally clause.\n",
    "\n",
    "try:\n",
    "    x = int(input(\"Enter a number: \"))\n",
    "    y = 10 / x\n",
    "    print(\"Result:\", y)\n",
    "except ZeroDivisionError:\n",
    "    print(\"You cannot divide by zero.\")\n",
    "except ValueError:\n",
    "    print(\"Invalid input! Please enter a number\")\n",
    "finally:\n",
    "    print(\"This is the finally block. It always runs\")\n"
   ]
  },
  {
   "cell_type": "code",
   "execution_count": null,
   "id": "0d635036-3ae8-41ec-9b3d-faf9e3334ac0",
   "metadata": {},
   "outputs": [],
   "source": []
  }
 ],
 "metadata": {
  "kernelspec": {
   "display_name": "Python [conda env:base] *",
   "language": "python",
   "name": "conda-base-py"
  },
  "language_info": {
   "codemirror_mode": {
    "name": "ipython",
    "version": 3
   },
   "file_extension": ".py",
   "mimetype": "text/x-python",
   "name": "python",
   "nbconvert_exporter": "python",
   "pygments_lexer": "ipython3",
   "version": "3.12.7"
  }
 },
 "nbformat": 4,
 "nbformat_minor": 5
}
